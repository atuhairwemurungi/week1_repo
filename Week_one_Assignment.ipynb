{
  "nbformat": 4,
  "nbformat_minor": 0,
  "metadata": {
    "colab": {
      "provenance": [],
      "authorship_tag": "ABX9TyMUT1zgTmyvFXmRqA4TzjZp"
    },
    "kernelspec": {
      "name": "python3",
      "display_name": "Python 3"
    },
    "language_info": {
      "name": "python"
    }
  },
  "cells": [
    {
      "cell_type": "markdown",
      "source": [
        "Part A: Data Structures"
      ],
      "metadata": {
        "id": "IILW80hWaBsD"
      }
    },
    {
      "cell_type": "code",
      "execution_count": null,
      "metadata": {
        "id": "qKhp9FXTY5HT"
      },
      "outputs": [],
      "source": [
        "#List of numners from 1 to 10\n",
        "numbers = [1,2,3,4,5,6,7,8,9,10]"
      ]
    },
    {
      "cell_type": "code",
      "source": [
        "#Appending 12 to the list\n",
        "numbers.append(12)"
      ],
      "metadata": {
        "id": "osP0B2Tmx1X2"
      },
      "execution_count": null,
      "outputs": []
    },
    {
      "cell_type": "markdown",
      "source": [],
      "metadata": {
        "id": "kKscxmUwZ_U9"
      }
    },
    {
      "cell_type": "code",
      "source": [
        "#Removing 6 from the list\n",
        "numbers.remove(6)"
      ],
      "metadata": {
        "id": "jhbFYKXdyCwU"
      },
      "execution_count": null,
      "outputs": []
    },
    {
      "cell_type": "code",
      "source": [
        "#updated list\n",
        "print(numbers)"
      ],
      "metadata": {
        "colab": {
          "base_uri": "https://localhost:8080/"
        },
        "id": "Oa8thAvryNrU",
        "outputId": "d8e155e3-7b33-4503-b669-77a34b37aac8"
      },
      "execution_count": null,
      "outputs": [
        {
          "output_type": "stream",
          "name": "stdout",
          "text": [
            "[1, 2, 3, 4, 5, 7, 8, 9, 10, 12]\n"
          ]
        }
      ]
    },
    {
      "cell_type": "code",
      "source": [
        "#Turple of 5 city names\n",
        "Cities = ('Kampala', 'Mbarara', 'Mbale', 'Arua', 'Hoima')"
      ],
      "metadata": {
        "id": "acY_R_FAy09Y"
      },
      "execution_count": null,
      "outputs": []
    },
    {
      "cell_type": "code",
      "source": [
        "#Checking the index of Mbale\n",
        "Cities.index('Mbale')"
      ],
      "metadata": {
        "colab": {
          "base_uri": "https://localhost:8080/"
        },
        "id": "KZ6rtaw71NiQ",
        "outputId": "03e9e3fa-13ee-4493-cf66-e6996eeca4f7"
      },
      "execution_count": null,
      "outputs": [
        {
          "output_type": "execute_result",
          "data": {
            "text/plain": [
              "2"
            ]
          },
          "metadata": {},
          "execution_count": 19
        }
      ]
    },
    {
      "cell_type": "code",
      "source": [
        "#Trying to remove Arua from the tuple\n",
        "Cities.remove('Arua')\n",
        "#It returns an error because tuples are immutable, and can only be counted or indexed."
      ],
      "metadata": {
        "colab": {
          "base_uri": "https://localhost:8080/",
          "height": 141
        },
        "id": "V7HddufT3ka7",
        "outputId": "22f93daf-36df-4069-9d2f-88b7a2ee784e"
      },
      "execution_count": null,
      "outputs": [
        {
          "output_type": "error",
          "ename": "AttributeError",
          "evalue": "'tuple' object has no attribute 'remove'",
          "traceback": [
            "\u001b[0;31m---------------------------------------------------------------------------\u001b[0m",
            "\u001b[0;31mAttributeError\u001b[0m                            Traceback (most recent call last)",
            "\u001b[0;32m<ipython-input-18-27e5e636b82d>\u001b[0m in \u001b[0;36m<cell line: 0>\u001b[0;34m()\u001b[0m\n\u001b[0;32m----> 1\u001b[0;31m \u001b[0mCities\u001b[0m\u001b[0;34m.\u001b[0m\u001b[0mremove\u001b[0m\u001b[0;34m(\u001b[0m\u001b[0;34m'Arua'\u001b[0m\u001b[0;34m)\u001b[0m\u001b[0;34m\u001b[0m\u001b[0;34m\u001b[0m\u001b[0m\n\u001b[0m",
            "\u001b[0;31mAttributeError\u001b[0m: 'tuple' object has no attribute 'remove'"
          ]
        }
      ]
    },
    {
      "cell_type": "markdown",
      "source": [],
      "metadata": {
        "id": "fi50lDcZ4EwS"
      }
    },
    {
      "cell_type": "code",
      "source": [
        "#Set of student names\n",
        "Students = {'John', 'Ben', 'Sara', 'Rose', 'Mary'}\n",
        "#Adding a duplicate\n",
        "Students.add{'Mary'}\n",
        "#Invalid syntax because sets donot allow duplicates"
      ],
      "metadata": {
        "colab": {
          "base_uri": "https://localhost:8080/",
          "height": 106
        },
        "id": "gjG90SnY4W6o",
        "outputId": "b7c93a94-7d1e-4f3c-b5c4-d6b69994c949"
      },
      "execution_count": null,
      "outputs": [
        {
          "output_type": "error",
          "ename": "SyntaxError",
          "evalue": "invalid syntax (<ipython-input-23-f9a4dbc13968>, line 4)",
          "traceback": [
            "\u001b[0;36m  File \u001b[0;32m\"<ipython-input-23-f9a4dbc13968>\"\u001b[0;36m, line \u001b[0;32m4\u001b[0m\n\u001b[0;31m    Students.add{'Mary'}\u001b[0m\n\u001b[0m                ^\u001b[0m\n\u001b[0;31mSyntaxError\u001b[0m\u001b[0;31m:\u001b[0m invalid syntax\n"
          ]
        }
      ]
    },
    {
      "cell_type": "code",
      "source": [
        "#Dictionary of Neighbour\n",
        "Neighbour = {'name':'Margaret', 'age':50, 'email': 'maggienash@gmail.com'}"
      ],
      "metadata": {
        "id": "a39bfZGK6w_s"
      },
      "execution_count": null,
      "outputs": []
    },
    {
      "cell_type": "code",
      "source": [
        "#Updating the email and printing keys and values\n",
        "Neighbour.update({'email':'margaretatukunda@gmail.com'})\n",
        "print(Neighbour)"
      ],
      "metadata": {
        "colab": {
          "base_uri": "https://localhost:8080/"
        },
        "id": "68Tk_rPH7hvJ",
        "outputId": "8ea0d7d9-cd7a-42dc-9254-a88be4351efe"
      },
      "execution_count": null,
      "outputs": [
        {
          "output_type": "stream",
          "name": "stdout",
          "text": [
            "{'name': 'Margaret', 'age': 50, 'email': 'margaretatukunda@gmail.com'}\n"
          ]
        }
      ]
    },
    {
      "cell_type": "markdown",
      "source": [
        "Part B: Control Flow"
      ],
      "metadata": {
        "id": "trZxKns8_Eql"
      }
    },
    {
      "cell_type": "code",
      "source": [
        "#Loop that prints whether each number from 1-20 is odd or even\n",
        "for number in range(1,21):\n",
        "  if number % 2 == 0:\n",
        "    print(f'{number} is even')\n",
        "  else:\n",
        "    print(f'{number} is odd')\n"
      ],
      "metadata": {
        "colab": {
          "base_uri": "https://localhost:8080/"
        },
        "id": "vCI__V9K_LIa",
        "outputId": "dc9f9977-7506-4a6f-e59a-200c3340669f"
      },
      "execution_count": null,
      "outputs": [
        {
          "output_type": "stream",
          "name": "stdout",
          "text": [
            "1 is odd\n",
            "2 is even\n",
            "3 is odd\n",
            "4 is even\n",
            "5 is odd\n",
            "6 is even\n",
            "7 is odd\n",
            "8 is even\n",
            "9 is odd\n",
            "10 is even\n",
            "11 is odd\n",
            "12 is even\n",
            "13 is odd\n",
            "14 is even\n",
            "15 is odd\n",
            "16 is even\n",
            "17 is odd\n",
            "18 is even\n",
            "19 is odd\n",
            "20 is even\n"
          ]
        }
      ]
    },
    {
      "cell_type": "code",
      "source": [
        "#Using a loop to iterate over the dictionary of neighbour in part A.\n",
        "for key in Neighbour.keys():\n",
        "  print(key, Neighbour[key])"
      ],
      "metadata": {
        "colab": {
          "base_uri": "https://localhost:8080/"
        },
        "id": "MXLnABPMFFaj",
        "outputId": "954c0a86-4eb2-4673-94e1-28f724b43534"
      },
      "execution_count": null,
      "outputs": [
        {
          "output_type": "stream",
          "name": "stdout",
          "text": [
            "name Margaret\n",
            "age 50\n",
            "email margaretatukunda@gmail.com\n"
          ]
        }
      ]
    },
    {
      "cell_type": "code",
      "source": [
        "#Write a program that grades a student\n",
        "#the program would selcet the grade in which the student's makrs fall, and in this case, 100 is an A\n",
        "marks = 100\n",
        "if marks >= 80:\n",
        "  print('A')\n",
        "elif marks >=70:\n",
        "  print('B')\n",
        "elif marks >=60:\n",
        "  print('C')\n",
        "elif marks >=50:\n",
        "  print('D')\n",
        "else:\n",
        "  print('F')"
      ],
      "metadata": {
        "colab": {
          "base_uri": "https://localhost:8080/"
        },
        "id": "yCmKxkmeQS9Z",
        "outputId": "37633757-6a0e-454e-b198-c9d82575f4a0"
      },
      "execution_count": null,
      "outputs": [
        {
          "output_type": "stream",
          "name": "stdout",
          "text": [
            "A\n"
          ]
        }
      ]
    },
    {
      "cell_type": "markdown",
      "source": [
        "Part C: Functions and Modular Code"
      ],
      "metadata": {
        "id": "w9hhnXCMTOYA"
      }
    },
    {
      "cell_type": "code",
      "source": [
        "#Define a function that calculates and returns the mean\n",
        "#Using the numbers in part A;\n",
        "def calculate_mean(numbers):\n",
        "    return sum(numbers) / len(numbers)\n",
        "\n",
        "data = (numbers)\n",
        "mean = calculate_mean(data)\n",
        "print('mean:', mean)"
      ],
      "metadata": {
        "colab": {
          "base_uri": "https://localhost:8080/"
        },
        "id": "BkiNuBv9Sg9A",
        "outputId": "63e1b428-8728-4f43-e8f7-bbdd43a6a3ea"
      },
      "execution_count": null,
      "outputs": [
        {
          "output_type": "stream",
          "name": "stdout",
          "text": [
            "mean: 6.1\n"
          ]
        }
      ]
    },
    {
      "cell_type": "code",
      "source": [
        "#utils.py\n",
        "def greet_user(name):\n",
        "    print(f\"Hello, {name}!\")\n",
        "\n",
        "def square(n):\n",
        "    return n**2\n"
      ],
      "metadata": {
        "id": "_CaM0dBFeWCc"
      },
      "execution_count": null,
      "outputs": []
    },
    {
      "cell_type": "markdown",
      "source": [
        "Part D:Error Handling"
      ],
      "metadata": {
        "id": "awSaB6VEN2Uw"
      }
    },
    {
      "cell_type": "code",
      "source": [
        "def divide (y,x):\n",
        "  if x == 0:\n",
        "    except ZeroDivisionError:\n",
        "    print('Cannot divide by zero!')\n",
        "\n",
        "  if y== 0:\n",
        "    except ZeroDivisionError:\n",
        "    print('Cannot divide by zero!')\n",
        "\n",
        "#I've done if for both y & x, incase any of the values they enter is 0\n",
        "\n",
        "  finally:\n",
        "    print('Operation complete.')"
      ],
      "metadata": {
        "id": "JZCPRNuKanb_"
      },
      "execution_count": null,
      "outputs": []
    }
  ]
}